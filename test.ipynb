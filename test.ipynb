{
 "cells": [
  {
   "cell_type": "code",
   "execution_count": 3,
   "metadata": {},
   "outputs": [],
   "source": [
    "import pandas as pd\n",
    "from sqlalchemy import create_engine\n",
    "from sqlalchemy import text"
   ]
  },
  {
   "cell_type": "code",
   "execution_count": 2,
   "metadata": {},
   "outputs": [],
   "source": [
    "connection_method = 'mysql+pymysql'\n",
    "db_user = 'root'\n",
    "db_password = 'mysql'\n",
    "db_host = '127.0.0.1'\n",
    "db_port = '3306'\n",
    "db_name = 'lego'\n",
    "engine = create_engine(f'{connection_method}://{db_user}:{db_password}@{db_host}:{db_port}/{db_name}', pool_pre_ping=True, future=True)"
   ]
  },
  {
   "cell_type": "code",
   "execution_count": 4,
   "metadata": {},
   "outputs": [
    {
     "name": "stdout",
     "output_type": "stream",
     "text": [
      "('colors',)\n",
      "('inventories',)\n",
      "('inventory_parts',)\n",
      "('inventory_sets',)\n",
      "('part_categories',)\n",
      "('parts',)\n",
      "('sets',)\n",
      "('themes',)\n"
     ]
    }
   ],
   "source": [
    "\n",
    "\n",
    "with engine.connect() as conn:\n",
    "    check = conn.execute(text(\"SHOW TABLES\"))\n",
    "    for row in check:\n",
    "        print(row)"
   ]
  },
  {
   "cell_type": "code",
   "execution_count": null,
   "metadata": {},
   "outputs": [],
   "source": [
    "# Selecting Values\n",
    "# Select the name and part_num columns from the parts table. Show only names that include the substring 'Hair', and order them with the part_num in descending order\n",
    "\n",
    "# stmt = select([table1.c.myid]).where(table1.c.myid == table2.c.otherid)\n",
    "\n",
    "with engine.connect() as conn:\n",
    "    check = conn.execute(text(\"SELECT p.name, p.part_num FROM parts\"))\n",
    "    for row in check:\n",
    "        print(row)\n"
   ]
  },
  {
   "cell_type": "code",
   "execution_count": null,
   "metadata": {},
   "outputs": [],
   "source": [
    "use lego;\n",
    "\n",
    "# Select the name and part_num columns from the parts table. Show only names that include the substring 'Hair', and order them with the part_num in descending order\n",
    "\n",
    "\n",
    "\n",
    "SELECT p.name, p.part_num\n",
    "FROM parts p\n",
    "WHERE p.name LIKE '%hair%'\n",
    "GROUP BY part_num DESC;"
   ]
  },
  {
   "cell_type": "code",
   "execution_count": null,
   "metadata": {},
   "outputs": [],
   "source": [
    "# From the sets table, select all the sets that included the word 'Showdown' in the name between 1990 and 2015\n",
    "\n",
    "\n",
    "SELECT s.name, s.year\n",
    "FROM sets s\n",
    "WHERE s.name like '%showdown%' AND s.year BETWEEN 1990 and 2015\n",
    "GROUP BY s.year;"
   ]
  },
  {
   "cell_type": "code",
   "execution_count": null,
   "metadata": {},
   "outputs": [],
   "source": [
    "# Aliasing the part_categories table as p, show the id and name of the values in that table where the name includes the word 'Bricks'\n",
    "\n",
    "SELECT p.id, p.name\n",
    "FROM part_categories p\n",
    "WHERE p.name like '%bricks%';"
   ]
  },
  {
   "cell_type": "code",
   "execution_count": null,
   "metadata": {},
   "outputs": [],
   "source": [
    "# Select all the ids from the themes table where the name is in 'Pirates' or 'Star Wars'. \n",
    "# This is your subquery. Then show the names of all the sets where the theme_id matches an \n",
    "# id in that subquery.\n",
    "\n",
    "SELECT s.name, s.theme_id\n",
    "FROM sets s\n",
    "Where theme_id in\n",
    "(SELECT t.id\n",
    " \tFROM themes t\n",
    " \tWHERE t.name in ('pirates', 'star wars') \n",
    " \tAND s.theme_id = t.id);"
   ]
  },
  {
   "cell_type": "code",
   "execution_count": null,
   "metadata": {},
   "outputs": [],
   "source": [
    "\n",
    "# !!!!!!!!!!!!!!!!!!!!!!!!!!!!!!!!!!!!!!!!!!!!!!!!!!!!\n",
    "\n",
    "\n",
    "# !!!!!!!!!!!!!!!!!!!!!!!!!!!!!!!!!!!!!!!!!!!!!!!!!!!!\n",
    "\n",
    "# elect the ids of the values in the inventories table that\n",
    "# have more than one version (i.e. version > 1). This is your\n",
    "# subquery. \n",
    "\n",
    "# Then select everything from the inventory_parts\n",
    "# table where the inventory_id matches an id in that subquery.\n",
    "# Limit the output to 10 rows.\n",
    "\n",
    "SELECT *\n",
    "FROM inventory_parts i_p\n",
    "WHERE i_p.inventory_id = inventories.id\n",
    "  (SELECT i.set_num, i.id, COUNT(i.id) multi\n",
    "  FROM inventories i\n",
    "  GROUP BY i.id, i_p.inventory_id LIMIT 10\n",
    "  HAVING multi >1);\n",
    "\n",
    "\n",
    "\n",
    "# !!!!!!!!!!!!!!!!!!!!!!!!!!!!!!!!!!!!!!!!!!!!!!!!!!!!\n",
    "SELECT * COUNT(i.id) order_count \n",
    "FROM inventory_parts ip \n",
    " \n",
    "GROUP BY i.id\n",
    "HAVING order_count >2;\n",
    "\n",
    "# !!!!!!!!!!!!!!!!!!!!!!!!!!!!!!!!!!!!!!!!!!!!!!!!!!!!\n"
   ]
  },
  {
   "cell_type": "code",
   "execution_count": null,
   "metadata": {},
   "outputs": [],
   "source": [
    "\n",
    "# Aliasing the sets table as 's', select the year and name \n",
    "# of the values in that table that include the substring \n",
    "# 'Batman'. Concatenate three exclamation marks to the end \n",
    "# of each name, and make all the names upper case.\n",
    "SELECT year, CONCAT(UPPER(s.name), '!!!') as names_cap \n",
    "FROM sets s\n",
    "WHERE name like '%batman%';"
   ]
  },
  {
   "cell_type": "code",
   "execution_count": null,
   "metadata": {},
   "outputs": [],
   "source": [
    "# For every quantity value greater than 1 in the inventory_parts table, double the value \n",
    "# of the quantity. Limit your output to 20 rows, and order it by quantity.\n",
    "SELECT\n",
    "    quantity,\n",
    "    quantity * 2 AS doubled\n",
    "FROM inventory_parts \n",
    "WHERE quantity > 1\n",
    "ORDER BY quantity DESC LIMIT 20;"
   ]
  },
  {
   "cell_type": "code",
   "execution_count": null,
   "metadata": {},
   "outputs": [],
   "source": [
    "# Selecting from the sets table: - Select the name and year column. \n",
    "# Construct an additional column in your SELECT clause using the MySQL MAKEDATE() function. \n",
    "# This column's value should be a date corresponding to January 1st of the year. Hint: You \n",
    "# should use the year column and day 1 with MAKEDATE(). Read the MySQL documentation for MAKEDATE().\n",
    "\n",
    "SELECT s.name, s.year, MAKEDATE(s.year,1) as the_first\n",
    "FROM sets s;"
   ]
  },
  {
   "cell_type": "code",
   "execution_count": null,
   "metadata": {},
   "outputs": [],
   "source": [
    "# Aggregation Functions\n",
    "# Count the total number of transparent colors in the colors table \n",
    "# # (Note: is_trans is a binary value, and you want to show how many rows there are \n",
    "#  where it equals 1).\n",
    "SELECT COUNT(distinct name)\n",
    "FROM colors\n",
    "WHERE name like '%trans%';\n"
   ]
  },
  {
   "cell_type": "code",
   "execution_count": null,
   "metadata": {},
   "outputs": [],
   "source": [
    "#  Show the sum of all the parts for all the sets that came out since the year 2000.\n",
    "\n",
    "SELECT SUM(num_parts) as parts, sets.year\n",
    "FROM sets\n",
    "WHERE sets.year >= 2000;"
   ]
  }
 ],
 "metadata": {
  "interpreter": {
   "hash": "e5030792b3492f6b12d94f1f48beca3d8e59ec05fd59d0aaaa48e684281ed297"
  },
  "kernelspec": {
   "display_name": "Python 3.7.13 64-bit",
   "language": "python",
   "name": "python3"
  },
  "language_info": {
   "codemirror_mode": {
    "name": "ipython",
    "version": 3
   },
   "file_extension": ".py",
   "mimetype": "text/x-python",
   "name": "python",
   "nbconvert_exporter": "python",
   "pygments_lexer": "ipython3",
   "version": "3.7.13"
  },
  "orig_nbformat": 4
 },
 "nbformat": 4,
 "nbformat_minor": 2
}
